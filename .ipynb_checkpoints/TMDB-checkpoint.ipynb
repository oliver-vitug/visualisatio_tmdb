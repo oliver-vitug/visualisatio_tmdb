{
 "cells": [
  {
   "cell_type": "markdown",
   "id": "2c516d71-ea79-4333-82e9-5005c041a645",
   "metadata": {},
   "source": [
    "<p style=\"text-align:center;\">\n",
    "<img src=\"https://github.com/digital-futures-academy/DataScienceMasterResources/blob/main/Resources/datascience-notebook-header.png?raw=true\"\n",
    "     alt=\"DigitalFuturesLogo\"\n",
    "     style=\"float: center; margin-right: 10px;\" />\n",
    "</p>"
   ]
  },
  {
   "cell_type": "code",
   "execution_count": 4,
   "id": "fb27abeb-cc68-43de-a2f9-c23c4a1ea262",
   "metadata": {
    "tags": []
   },
   "outputs": [],
   "source": [
    "import numpy as np \n",
    "import seaborn as sns\n",
    "import matplotlib.pyplot as plt \n",
    "import pandas as pd \n",
    "import ast"
   ]
  },
  {
   "cell_type": "markdown",
   "id": "1fa2c317-9709-474b-a172-70d8f244c71c",
   "metadata": {
    "tags": []
   },
   "source": [
    "<b>Data Import</b>"
   ]
  },
  {
   "cell_type": "code",
   "execution_count": 5,
   "id": "177a70ef-abf4-471a-8be9-0f8a829a3d3f",
   "metadata": {
    "tags": []
   },
   "outputs": [],
   "source": [
    "file_path = \"C:/Users/olive/df_data/tmdb_project/df_work.csv\" # A altered copy of the original data\n",
    "dataframe = pd.read_csv(file_path)\n",
    "df = dataframe.copy()"
   ]
  },
  {
   "cell_type": "code",
   "execution_count": null,
   "id": "8aac8bc6-d797-4fab-bc23-9370f5611947",
   "metadata": {
    "tags": []
   },
   "outputs": [],
   "source": [
    "df.shape"
   ]
  },
  {
   "cell_type": "markdown",
   "id": "8d1ee5e5-5290-46d4-87ed-599f76871590",
   "metadata": {},
   "source": [
    "_NOTE:_ Added a new column called gross_profit - Calcualted by subtracting revenue and budget."
   ]
  },
  {
   "cell_type": "code",
   "execution_count": 8,
   "id": "0d43befd-a80e-4421-a6c7-1bcb3f0236da",
   "metadata": {
    "tags": []
   },
   "outputs": [
    {
     "data": {
      "text/html": [
       "<div>\n",
       "<style scoped>\n",
       "    .dataframe tbody tr th:only-of-type {\n",
       "        vertical-align: middle;\n",
       "    }\n",
       "\n",
       "    .dataframe tbody tr th {\n",
       "        vertical-align: top;\n",
       "    }\n",
       "\n",
       "    .dataframe thead th {\n",
       "        text-align: right;\n",
       "    }\n",
       "</style>\n",
       "<table border=\"1\" class=\"dataframe\">\n",
       "  <thead>\n",
       "    <tr style=\"text-align: right;\">\n",
       "      <th></th>\n",
       "      <th>budget</th>\n",
       "      <th>genres</th>\n",
       "      <th>homepage</th>\n",
       "      <th>id</th>\n",
       "      <th>keywords</th>\n",
       "      <th>original_language</th>\n",
       "      <th>original_title</th>\n",
       "      <th>overview</th>\n",
       "      <th>popularity</th>\n",
       "      <th>production_companies</th>\n",
       "      <th>...</th>\n",
       "      <th>release_date</th>\n",
       "      <th>revenue</th>\n",
       "      <th>runtime</th>\n",
       "      <th>spoken_languages</th>\n",
       "      <th>status</th>\n",
       "      <th>tagline</th>\n",
       "      <th>title</th>\n",
       "      <th>vote_average</th>\n",
       "      <th>vote_count</th>\n",
       "      <th>gross_profit</th>\n",
       "    </tr>\n",
       "  </thead>\n",
       "  <tbody>\n",
       "    <tr>\n",
       "      <th>0</th>\n",
       "      <td>237000000</td>\n",
       "      <td>[{\"id\": 28, \"name\": \"Action\"}, {\"id\": 12, \"nam...</td>\n",
       "      <td>http://www.avatarmovie.com/</td>\n",
       "      <td>19995</td>\n",
       "      <td>[{\"id\": 1463, \"name\": \"culture clash\"}, {\"id\":...</td>\n",
       "      <td>en</td>\n",
       "      <td>Avatar</td>\n",
       "      <td>In the 22nd century, a paraplegic Marine is di...</td>\n",
       "      <td>150.437577</td>\n",
       "      <td>[{\"name\": \"Ingenious Film Partners\", \"id\": 289...</td>\n",
       "      <td>...</td>\n",
       "      <td>2009-12-10</td>\n",
       "      <td>2787965087</td>\n",
       "      <td>162.0</td>\n",
       "      <td>[{\"iso_639_1\": \"en\", \"name\": \"English\"}, {\"iso...</td>\n",
       "      <td>Released</td>\n",
       "      <td>Enter the World of Pandora.</td>\n",
       "      <td>Avatar</td>\n",
       "      <td>7.2</td>\n",
       "      <td>11800</td>\n",
       "      <td>2550965087</td>\n",
       "    </tr>\n",
       "    <tr>\n",
       "      <th>1</th>\n",
       "      <td>300000000</td>\n",
       "      <td>[{\"id\": 12, \"name\": \"Adventure\"}, {\"id\": 14, \"...</td>\n",
       "      <td>http://disney.go.com/disneypictures/pirates/</td>\n",
       "      <td>285</td>\n",
       "      <td>[{\"id\": 270, \"name\": \"ocean\"}, {\"id\": 726, \"na...</td>\n",
       "      <td>en</td>\n",
       "      <td>Pirates of the Caribbean: At World's End</td>\n",
       "      <td>Captain Barbossa, long believed to be dead, ha...</td>\n",
       "      <td>139.082615</td>\n",
       "      <td>[{\"name\": \"Walt Disney Pictures\", \"id\": 2}, {\"...</td>\n",
       "      <td>...</td>\n",
       "      <td>2007-05-19</td>\n",
       "      <td>961000000</td>\n",
       "      <td>169.0</td>\n",
       "      <td>[{\"iso_639_1\": \"en\", \"name\": \"English\"}]</td>\n",
       "      <td>Released</td>\n",
       "      <td>At the end of the world, the adventure begins.</td>\n",
       "      <td>Pirates of the Caribbean: At World's End</td>\n",
       "      <td>6.9</td>\n",
       "      <td>4500</td>\n",
       "      <td>661000000</td>\n",
       "    </tr>\n",
       "  </tbody>\n",
       "</table>\n",
       "<p>2 rows × 21 columns</p>\n",
       "</div>"
      ],
      "text/plain": [
       "      budget                                             genres  \\\n",
       "0  237000000  [{\"id\": 28, \"name\": \"Action\"}, {\"id\": 12, \"nam...   \n",
       "1  300000000  [{\"id\": 12, \"name\": \"Adventure\"}, {\"id\": 14, \"...   \n",
       "\n",
       "                                       homepage     id  \\\n",
       "0                   http://www.avatarmovie.com/  19995   \n",
       "1  http://disney.go.com/disneypictures/pirates/    285   \n",
       "\n",
       "                                            keywords original_language  \\\n",
       "0  [{\"id\": 1463, \"name\": \"culture clash\"}, {\"id\":...                en   \n",
       "1  [{\"id\": 270, \"name\": \"ocean\"}, {\"id\": 726, \"na...                en   \n",
       "\n",
       "                             original_title  \\\n",
       "0                                    Avatar   \n",
       "1  Pirates of the Caribbean: At World's End   \n",
       "\n",
       "                                            overview  popularity  \\\n",
       "0  In the 22nd century, a paraplegic Marine is di...  150.437577   \n",
       "1  Captain Barbossa, long believed to be dead, ha...  139.082615   \n",
       "\n",
       "                                production_companies  ... release_date  \\\n",
       "0  [{\"name\": \"Ingenious Film Partners\", \"id\": 289...  ...   2009-12-10   \n",
       "1  [{\"name\": \"Walt Disney Pictures\", \"id\": 2}, {\"...  ...   2007-05-19   \n",
       "\n",
       "      revenue  runtime                                   spoken_languages  \\\n",
       "0  2787965087    162.0  [{\"iso_639_1\": \"en\", \"name\": \"English\"}, {\"iso...   \n",
       "1   961000000    169.0           [{\"iso_639_1\": \"en\", \"name\": \"English\"}]   \n",
       "\n",
       "     status                                         tagline  \\\n",
       "0  Released                     Enter the World of Pandora.   \n",
       "1  Released  At the end of the world, the adventure begins.   \n",
       "\n",
       "                                      title vote_average  vote_count  \\\n",
       "0                                    Avatar          7.2       11800   \n",
       "1  Pirates of the Caribbean: At World's End          6.9        4500   \n",
       "\n",
       "   gross_profit  \n",
       "0    2550965087  \n",
       "1     661000000  \n",
       "\n",
       "[2 rows x 21 columns]"
      ]
     },
     "execution_count": 8,
     "metadata": {},
     "output_type": "execute_result"
    }
   ],
   "source": [
    "df.head(2)"
   ]
  },
  {
   "cell_type": "markdown",
   "id": "8976b6b7-6a4f-4264-90b4-60e8a548b051",
   "metadata": {},
   "source": [
    " "
   ]
  },
  {
   "cell_type": "markdown",
   "id": "e4391878-f1ff-4dfc-bff1-bded1418cad2",
   "metadata": {},
   "source": [
    "## 1.0 Preparing data"
   ]
  },
  {
   "cell_type": "markdown",
   "id": "5e1d7107-268f-4d96-8402-f241565a5a1c",
   "metadata": {},
   "source": [
    "## 1.1Check columns containing null"
   ]
  },
  {
   "cell_type": "code",
   "execution_count": 10,
   "id": "ad7a99e1-6b9a-4cb5-a9bc-b5059cffeae1",
   "metadata": {
    "tags": []
   },
   "outputs": [],
   "source": [
    "null_df = df.isnull()"
   ]
  },
  {
   "cell_type": "code",
   "execution_count": null,
   "id": "da6c9f0b-d2c7-43bd-b23c-4e1a6367f597",
   "metadata": {
    "tags": []
   },
   "outputs": [],
   "source": [
    "null_df.sum()"
   ]
  },
  {
   "cell_type": "markdown",
   "id": "623c5d50-72da-46a0-ad53-352c927855db",
   "metadata": {},
   "source": [
    " "
   ]
  },
  {
   "cell_type": "code",
   "execution_count": 14,
   "id": "761a1d7f-6f07-442c-a2ea-724d98c2d79b",
   "metadata": {
    "tags": []
   },
   "outputs": [],
   "source": [
    "def null_vals(dataframe): #Function to check nulls\n",
    "    '''function to show both number of nulls and the percentage of nulls in the whole column'''\n",
    "    null_vals = dataframe.isnull().sum() # How many nulls in each column\n",
    "    total_cnt = len(dataframe) # Total entries in the dataframe\n",
    "    null_vals = pd.DataFrame(null_vals,columns=['null']) ## Put the number of nulls in a single dataframe\n",
    "    null_vals['percent'] = round((null_vals['null']/total_cnt)*100,3) # Round how many nulls are there, as %, of the df\n",
    "    \n",
    "    return null_vals.sort_values('percent', ascending=False)"
   ]
  },
  {
   "cell_type": "code",
   "execution_count": null,
   "id": "74391ac9-0612-48fd-b304-8d864f23b16b",
   "metadata": {
    "tags": []
   },
   "outputs": [],
   "source": [
    "null_vals(df)"
   ]
  },
  {
   "cell_type": "markdown",
   "id": "48fd0a3f-ad2d-4654-9aa6-583f1082745c",
   "metadata": {},
   "source": [
    "_NOTE:_ Homepage column 64.356% missing data and tagline 17.572% (also not useful for project). "
   ]
  },
  {
   "cell_type": "markdown",
   "id": "887ea0aa-a58a-45a5-a609-09755f2e02f6",
   "metadata": {},
   "source": [
    " "
   ]
  },
  {
   "cell_type": "markdown",
   "id": "440b8e6a-df2d-4b40-9e8c-7224d6dd7865",
   "metadata": {},
   "source": [
    "<b>Dropping Homepage and tagline columns</b>"
   ]
  },
  {
   "cell_type": "code",
   "execution_count": 18,
   "id": "fc718fb2-2da2-4793-8618-9c27ef9a490d",
   "metadata": {
    "tags": []
   },
   "outputs": [],
   "source": [
    "df.drop(columns=['homepage', 'tagline'], inplace=True)"
   ]
  },
  {
   "cell_type": "code",
   "execution_count": null,
   "id": "5ab886a4-0385-48cf-ae1d-345b8bac32d3",
   "metadata": {
    "tags": []
   },
   "outputs": [],
   "source": [
    "df.describe()"
   ]
  },
  {
   "cell_type": "markdown",
   "id": "a7a16401-8995-4e7e-8711-290fa9a1b994",
   "metadata": {
    "tags": []
   },
   "source": [
    "<b>Standard filling missing data</b>"
   ]
  },
  {
   "cell_type": "markdown",
   "id": "7670ada8-1c18-4172-b8aa-c79aa218c31e",
   "metadata": {},
   "source": [
    "Won't be using 'overview', 'runtime' and 'release_date' columns but rather not remove the row/column, therefore standard fill nulls (X)."
   ]
  },
  {
   "cell_type": "code",
   "execution_count": null,
   "id": "47ac4405-736b-4c2b-a6eb-38695b38598b",
   "metadata": {
    "tags": []
   },
   "outputs": [],
   "source": [
    "df['overview'].fillna(\n",
    "    value = 'X', ## our value\n",
    "    method = None, ## We're using a pre-determined value, not backfilling/padding\n",
    "    inplace = True ## Have the changes take place\n",
    ")\n",
    "\n",
    "df['runtime'].fillna(\n",
    "    value = 'X', \n",
    "    method = None, \n",
    "    inplace = True \n",
    ")\n",
    "\n",
    "df['release_date'].fillna(\n",
    "    value = 'X', \n",
    "    method = None, \n",
    "    inplace = True \n",
    ")"
   ]
  },
  {
   "cell_type": "markdown",
   "id": "59b07508-f9cd-4d0e-877a-444e445a0168",
   "metadata": {
    "tags": []
   },
   "source": [
    "<b>Droppping duplicates</b>"
   ]
  },
  {
   "cell_type": "code",
   "execution_count": 22,
   "id": "4127b711-a8e2-42a1-bafe-a367eef94cad",
   "metadata": {
    "tags": []
   },
   "outputs": [],
   "source": [
    "df.drop_duplicates(keep = 'last',\n",
    "                        inplace = True)"
   ]
  },
  {
   "cell_type": "markdown",
   "id": "859caf0b-a055-410e-bce8-d62ddc97ef63",
   "metadata": {},
   "source": [
    " "
   ]
  },
  {
   "cell_type": "markdown",
   "id": "37151bb7-3b81-4e5e-9ec9-dd449726f0f0",
   "metadata": {},
   "source": [
    "## 1.2 Extracting data from columns"
   ]
  },
  {
   "cell_type": "code",
   "execution_count": 24,
   "id": "1b05e89d-8143-4155-b711-10deb579358b",
   "metadata": {
    "tags": []
   },
   "outputs": [],
   "source": [
    "## Function to extract genres for each datapoint\n",
    "import ast ## This module can be used to evaluate literals, eg: transform string-lists back into lists\n",
    "def extract_genres(x): \n",
    "    x = ast.literal_eval(x) ## Transform '['name', 'id']' back into ['name', 'id']\n",
    "    Genres = [] ## Empty list to store the genres\n",
    "    \n",
    "    ''' Iterate through each dictionary '''\n",
    "    for item in x: ## iterate for each dictionary in our list\n",
    "        Genres.append(item['name']) ## Grab the 'name' key for each dictionary\n",
    "        \n",
    "    ''' Return the Genres'''\n",
    "    return Genres\n",
    "\n",
    "## Apply the function to genres\n",
    "df['extracted_genres'] = df['genres'].apply(extract_genres)"
   ]
  },
  {
   "cell_type": "markdown",
   "id": "32f320b5-7c54-4b13-96e9-51fae30c0c4b",
   "metadata": {},
   "source": [
    "Apply it to other relavant columns (production_companies and spoken_languages)"
   ]
  },
  {
   "cell_type": "code",
   "execution_count": 26,
   "id": "b5f0140a-1cd3-4c13-8e6d-6941603b57a5",
   "metadata": {
    "tags": []
   },
   "outputs": [],
   "source": [
    "df['extracted_production_companies'] = df['production_companies'].apply(extract_genres)\n",
    "df['extracted_spoken_languages'] = df['spoken_languages'].apply(extract_genres)\n",
    "df['extracted_production_countries'] = df['production_countries'].apply(extract_genres)"
   ]
  },
  {
   "cell_type": "code",
   "execution_count": null,
   "id": "2d08ef74-c67e-4b6a-b429-573acfe07962",
   "metadata": {
    "tags": []
   },
   "outputs": [],
   "source": [
    "df.head(2)"
   ]
  },
  {
   "cell_type": "markdown",
   "id": "a3c2435a-ae47-4e0b-930e-2891ca5884d9",
   "metadata": {},
   "source": [
    "<b>Removing redundant columns</b>"
   ]
  },
  {
   "cell_type": "markdown",
   "id": "58ad5942-7c4e-4cca-a3e7-6cbb753eb772",
   "metadata": {},
   "source": [
    "Removing 'genres', 'production_companies' and 'spoken_languages' columns (and others not relevant) since we no longer require."
   ]
  },
  {
   "cell_type": "code",
   "execution_count": 30,
   "id": "58ea47c0-305e-4556-b375-126451e4e58b",
   "metadata": {
    "tags": []
   },
   "outputs": [],
   "source": [
    "df.drop(columns=['genres', 'production_companies', 'spoken_languages', 'keywords', 'overview', 'production_countries'], inplace=True)"
   ]
  },
  {
   "cell_type": "code",
   "execution_count": null,
   "id": "a80a91f6-bc42-4060-bed4-a1f524715a33",
   "metadata": {
    "tags": []
   },
   "outputs": [],
   "source": [
    "df.head(2)"
   ]
  },
  {
   "cell_type": "markdown",
   "id": "ef7b2e67-1ca4-4cab-8771-51930f541642",
   "metadata": {},
   "source": [
    " "
   ]
  },
  {
   "cell_type": "markdown",
   "id": "188f4bf9-ed82-4980-bfe5-645917ae9f1f",
   "metadata": {
    "tags": []
   },
   "source": [
    "# 2.0 Data Exploration"
   ]
  },
  {
   "cell_type": "markdown",
   "id": "15b984ce-d912-4615-be5a-bc13bb3f11ca",
   "metadata": {},
   "source": [
    "## 2.1 An analysis of genre popularity and profitablility"
   ]
  },
  {
   "cell_type": "markdown",
   "id": "aebb0ea3-49b8-45ba-af5e-e102ad746810",
   "metadata": {},
   "source": [
    "<b>Theory: Popularity is key for a film to generate profits. However does the popularity of genres have any correlation to profitability?<b/>"
   ]
  },
  {
   "cell_type": "code",
   "execution_count": 32,
   "id": "4bbb6368-5307-4ca8-89ca-851e16632aa5",
   "metadata": {
    "tags": []
   },
   "outputs": [],
   "source": [
    "genre_exploded_df = df.explode('extracted_genres').copy()"
   ]
  },
  {
   "cell_type": "code",
   "execution_count": 120,
   "id": "fe7100be-5a73-4249-85d2-9483981d700d",
   "metadata": {
    "tags": []
   },
   "outputs": [
    {
     "data": {
      "text/html": [
       "<div>\n",
       "<style scoped>\n",
       "    .dataframe tbody tr th:only-of-type {\n",
       "        vertical-align: middle;\n",
       "    }\n",
       "\n",
       "    .dataframe tbody tr th {\n",
       "        vertical-align: top;\n",
       "    }\n",
       "\n",
       "    .dataframe thead th {\n",
       "        text-align: right;\n",
       "    }\n",
       "</style>\n",
       "<table border=\"1\" class=\"dataframe\">\n",
       "  <thead>\n",
       "    <tr style=\"text-align: right;\">\n",
       "      <th></th>\n",
       "      <th>popularity</th>\n",
       "    </tr>\n",
       "    <tr>\n",
       "      <th>extracted_genres</th>\n",
       "      <th></th>\n",
       "    </tr>\n",
       "  </thead>\n",
       "  <tbody>\n",
       "    <tr>\n",
       "      <th>Foreign</th>\n",
       "      <td>0.686787</td>\n",
       "    </tr>\n",
       "    <tr>\n",
       "      <th>Documentary</th>\n",
       "      <td>3.945724</td>\n",
       "    </tr>\n",
       "    <tr>\n",
       "      <th>TV Movie</th>\n",
       "      <td>6.389415</td>\n",
       "    </tr>\n",
       "    <tr>\n",
       "      <th>Music</th>\n",
       "      <td>13.101512</td>\n",
       "    </tr>\n",
       "    <tr>\n",
       "      <th>Romance</th>\n",
       "      <td>15.962426</td>\n",
       "    </tr>\n",
       "    <tr>\n",
       "      <th>History</th>\n",
       "      <td>17.444839</td>\n",
       "    </tr>\n",
       "    <tr>\n",
       "      <th>Drama</th>\n",
       "      <td>17.764853</td>\n",
       "    </tr>\n",
       "    <tr>\n",
       "      <th>Comedy</th>\n",
       "      <td>18.221001</td>\n",
       "    </tr>\n",
       "    <tr>\n",
       "      <th>Western</th>\n",
       "      <td>18.236279</td>\n",
       "    </tr>\n",
       "    <tr>\n",
       "      <th>Horror</th>\n",
       "      <td>18.295915</td>\n",
       "    </tr>\n",
       "    <tr>\n",
       "      <th>Crime</th>\n",
       "      <td>22.853274</td>\n",
       "    </tr>\n",
       "    <tr>\n",
       "      <th>War</th>\n",
       "      <td>23.777289</td>\n",
       "    </tr>\n",
       "    <tr>\n",
       "      <th>Thriller</th>\n",
       "      <td>24.460077</td>\n",
       "    </tr>\n",
       "    <tr>\n",
       "      <th>Mystery</th>\n",
       "      <td>24.586827</td>\n",
       "    </tr>\n",
       "    <tr>\n",
       "      <th>Family</th>\n",
       "      <td>27.832849</td>\n",
       "    </tr>\n",
       "    <tr>\n",
       "      <th>Action</th>\n",
       "      <td>30.940382</td>\n",
       "    </tr>\n",
       "    <tr>\n",
       "      <th>Fantasy</th>\n",
       "      <td>36.387043</td>\n",
       "    </tr>\n",
       "    <tr>\n",
       "      <th>Science Fiction</th>\n",
       "      <td>36.451806</td>\n",
       "    </tr>\n",
       "    <tr>\n",
       "      <th>Animation</th>\n",
       "      <td>38.813439</td>\n",
       "    </tr>\n",
       "    <tr>\n",
       "      <th>Adventure</th>\n",
       "      <td>39.268042</td>\n",
       "    </tr>\n",
       "  </tbody>\n",
       "</table>\n",
       "</div>"
      ],
      "text/plain": [
       "                  popularity\n",
       "extracted_genres            \n",
       "Foreign             0.686787\n",
       "Documentary         3.945724\n",
       "TV Movie            6.389415\n",
       "Music              13.101512\n",
       "Romance            15.962426\n",
       "History            17.444839\n",
       "Drama              17.764853\n",
       "Comedy             18.221001\n",
       "Western            18.236279\n",
       "Horror             18.295915\n",
       "Crime              22.853274\n",
       "War                23.777289\n",
       "Thriller           24.460077\n",
       "Mystery            24.586827\n",
       "Family             27.832849\n",
       "Action             30.940382\n",
       "Fantasy            36.387043\n",
       "Science Fiction    36.451806\n",
       "Animation          38.813439\n",
       "Adventure          39.268042"
      ]
     },
     "execution_count": 120,
     "metadata": {},
     "output_type": "execute_result"
    }
   ],
   "source": [
    "genre_df = genre_exploded_df.groupby('extracted_genres')[['popularity']].mean().sort_values(['popularity'], ascending=True)\n",
    "genre_df"
   ]
  },
  {
   "cell_type": "markdown",
   "id": "8447edfa-d581-49fe-9e09-56561999de02",
   "metadata": {},
   "source": [
    "<b>Most popular: Adventure, Animation, Science Fiction. <br />\n",
    "Least popular: Foreign, Documentary, TV Movie\t</b>"
   ]
  },
  {
   "cell_type": "markdown",
   "id": "69d48916-d542-465a-b890-64f78a5d2b83",
   "metadata": {},
   "source": [
    "Do the genres rated highest actually correlate to profitability?"
   ]
  },
  {
   "cell_type": "code",
   "execution_count": 122,
   "id": "0fb8dadf-f15c-4ebf-84c0-1a266383f79d",
   "metadata": {
    "tags": []
   },
   "outputs": [
    {
     "data": {
      "text/html": [
       "<div>\n",
       "<style scoped>\n",
       "    .dataframe tbody tr th:only-of-type {\n",
       "        vertical-align: middle;\n",
       "    }\n",
       "\n",
       "    .dataframe tbody tr th {\n",
       "        vertical-align: top;\n",
       "    }\n",
       "\n",
       "    .dataframe thead th {\n",
       "        text-align: right;\n",
       "    }\n",
       "</style>\n",
       "<table border=\"1\" class=\"dataframe\">\n",
       "  <thead>\n",
       "    <tr style=\"text-align: right;\">\n",
       "      <th></th>\n",
       "      <th>gross_profit</th>\n",
       "    </tr>\n",
       "    <tr>\n",
       "      <th>extracted_genres</th>\n",
       "      <th></th>\n",
       "    </tr>\n",
       "  </thead>\n",
       "  <tbody>\n",
       "    <tr>\n",
       "      <th>TV Movie</th>\n",
       "      <td>-1.150000e+06</td>\n",
       "    </tr>\n",
       "    <tr>\n",
       "      <th>Foreign</th>\n",
       "      <td>-2.934369e+05</td>\n",
       "    </tr>\n",
       "    <tr>\n",
       "      <th>Documentary</th>\n",
       "      <td>7.185600e+06</td>\n",
       "    </tr>\n",
       "    <tr>\n",
       "      <th>Western</th>\n",
       "      <td>1.916726e+07</td>\n",
       "    </tr>\n",
       "    <tr>\n",
       "      <th>History</th>\n",
       "      <td>2.762010e+07</td>\n",
       "    </tr>\n",
       "    <tr>\n",
       "      <th>Horror</th>\n",
       "      <td>2.897105e+07</td>\n",
       "    </tr>\n",
       "    <tr>\n",
       "      <th>Drama</th>\n",
       "      <td>3.143791e+07</td>\n",
       "    </tr>\n",
       "    <tr>\n",
       "      <th>Music</th>\n",
       "      <td>3.254800e+07</td>\n",
       "    </tr>\n",
       "    <tr>\n",
       "      <th>Crime</th>\n",
       "      <td>3.830085e+07</td>\n",
       "    </tr>\n",
       "    <tr>\n",
       "      <th>Romance</th>\n",
       "      <td>3.969103e+07</td>\n",
       "    </tr>\n",
       "    <tr>\n",
       "      <th>Comedy</th>\n",
       "      <td>4.597608e+07</td>\n",
       "    </tr>\n",
       "    <tr>\n",
       "      <th>Mystery</th>\n",
       "      <td>4.755644e+07</td>\n",
       "    </tr>\n",
       "    <tr>\n",
       "      <th>War</th>\n",
       "      <td>4.887342e+07</td>\n",
       "    </tr>\n",
       "    <tr>\n",
       "      <th>Thriller</th>\n",
       "      <td>4.907608e+07</td>\n",
       "    </tr>\n",
       "    <tr>\n",
       "      <th>Action</th>\n",
       "      <td>8.970235e+07</td>\n",
       "    </tr>\n",
       "    <tr>\n",
       "      <th>Science Fiction</th>\n",
       "      <td>1.005910e+08</td>\n",
       "    </tr>\n",
       "    <tr>\n",
       "      <th>Family</th>\n",
       "      <td>1.116260e+08</td>\n",
       "    </tr>\n",
       "    <tr>\n",
       "      <th>Fantasy</th>\n",
       "      <td>1.297936e+08</td>\n",
       "    </tr>\n",
       "    <tr>\n",
       "      <th>Adventure</th>\n",
       "      <td>1.423333e+08</td>\n",
       "    </tr>\n",
       "    <tr>\n",
       "      <th>Animation</th>\n",
       "      <td>1.592271e+08</td>\n",
       "    </tr>\n",
       "  </tbody>\n",
       "</table>\n",
       "</div>"
      ],
      "text/plain": [
       "                  gross_profit\n",
       "extracted_genres              \n",
       "TV Movie         -1.150000e+06\n",
       "Foreign          -2.934369e+05\n",
       "Documentary       7.185600e+06\n",
       "Western           1.916726e+07\n",
       "History           2.762010e+07\n",
       "Horror            2.897105e+07\n",
       "Drama             3.143791e+07\n",
       "Music             3.254800e+07\n",
       "Crime             3.830085e+07\n",
       "Romance           3.969103e+07\n",
       "Comedy            4.597608e+07\n",
       "Mystery           4.755644e+07\n",
       "War               4.887342e+07\n",
       "Thriller          4.907608e+07\n",
       "Action            8.970235e+07\n",
       "Science Fiction   1.005910e+08\n",
       "Family            1.116260e+08\n",
       "Fantasy           1.297936e+08\n",
       "Adventure         1.423333e+08\n",
       "Animation         1.592271e+08"
      ]
     },
     "execution_count": 122,
     "metadata": {},
     "output_type": "execute_result"
    }
   ],
   "source": [
    "gross_profit_genre_df = genre_exploded_df.groupby('extracted_genres')\\\n",
    "                    [['gross_profit']].mean().sort_values(['gross_profit'], ascending=True)\n",
    "gross_profit_genre_df"
   ]
  },
  {
   "cell_type": "markdown",
   "id": "f0dd9f78-d658-4979-826e-0445bd89ff80",
   "metadata": {
    "tags": []
   },
   "source": [
    "<b>Most popular by gross_profit: Animation, Adventure, Fantasy. (Adventure/Animation is in our top 3 most popular) <br />\n",
    "Least popular by gross_profit: TV Movie, Foreign, Documentary. (All 3 genres were the in the bottom 3 least popular)</b>"
   ]
  },
  {
   "cell_type": "code",
   "execution_count": 118,
   "id": "de3c80e3-ff08-44c4-81ca-58f8367c5ad5",
   "metadata": {
    "tags": []
   },
   "outputs": [
    {
     "name": "stderr",
     "output_type": "stream",
     "text": [
      "C:\\Users\\olive\\AppData\\Local\\Temp\\ipykernel_11540\\844753232.py:7: FutureWarning: \n",
      "\n",
      "The `ci` parameter is deprecated. Use `errorbar=None` for the same effect.\n",
      "\n",
      "  sns.barplot(data=genre_exploded_df,\n"
     ]
    },
    {
     "data": {
      "image/png": "[encoded data removed]",
      "text/plain": [
       "<Figure size 800x600 with 1 Axes>"
      ]
     },
     "metadata": {},
     "output_type": "display_data"
    }
   ],
   "source": [
    "genre_list = list(genre_exploded_df.extracted_genres)\n",
    "order = ['Adventure', 'Animation', 'Science Fiction','Documentary', 'Foreign', 'TV Movie']\n",
    "\n",
    "plt.figure(figsize=(8, 6))\n",
    "\n",
    "\n",
    "sns.barplot(data=genre_exploded_df, \n",
    "            x='extracted_genres', \n",
    "            y='gross_profit',\n",
    "           palette = 'magma',\n",
    "           order = order,\n",
    "           ci=None)\n",
    "\n",
    "\n",
    "\n",
    "plt.xticks( ticks = range(6), # Distance between points (num in list) # Names you want for your labels!\n",
    "            rotation= 45 , # rotating labels\n",
    "           horizontalalignment = 'right', # aligning them with the bars (can do left 330)\n",
    "           fontweight = 'light',\n",
    "           fontsize =  'large' # setting the fonts\n",
    "          )\n",
    "\n",
    "plt.title('Top and Bottom 3 genres (popularity) and profitability\\n')\n",
    "plt.xlabel(\"Genres\")\n",
    "plt.ylabel(\"Gross Profit\")\n",
    "plt.show()"
   ]
  },
  {
   "cell_type": "markdown",
   "id": "18c08353-e3e6-4320-ad1c-ed1cf29c96be",
   "metadata": {},
   "source": [
    "<b>Note: <br />\n",
    "Most popular: Adventure, War, Drama. <br />\n",
    "Least popular: TV Movie, Foreign, Documentary</b>"
   ]
  },
  {
   "cell_type": "markdown",
   "id": "165cdf75-9072-47d4-b2f8-1d953269ec25",
   "metadata": {},
   "source": [
    "Interestingly it the amount the audience enjoyed a particular genre doesn't necessarily correlate to profitability. This could suggest it's not the quality of a movie that matters but perhaps just the ability to attract an audience in the first place."
   ]
  },
  {
   "cell_type": "markdown",
   "id": "af3c85fc-bd22-4abf-8ea4-8a32dffa66c3",
   "metadata": {},
   "source": [
    "    "
   ]
  },
  {
   "cell_type": "markdown",
   "id": "ceef5062-aa31-4569-9b37-fa9c0979db88",
   "metadata": {
    "tags": []
   },
   "source": [
    "<b>Creating a graph for every genre</b>"
   ]
  },
  {
   "cell_type": "markdown",
   "id": "486b4898-4cc6-4ec5-8404-6a463adf091a",
   "metadata": {},
   "source": [
    "The top and bottom three genres aggre with our hypothesis, but does the rest of the data agree?"
   ]
  },
  {
   "cell_type": "code",
   "execution_count": 53,
   "id": "e3e15e31-ff24-42fb-9cf9-291bc4aaeb0b",
   "metadata": {
    "tags": []
   },
   "outputs": [
    {
     "name": "stderr",
     "output_type": "stream",
     "text": [
      "C:\\Users\\olive\\AppData\\Local\\Temp\\ipykernel_11540\\2324627013.py:7: FutureWarning: \n",
      "\n",
      "The `ci` parameter is deprecated. Use `errorbar=None` for the same effect.\n",
      "\n",
      "  sns.barplot(data=genre_exploded_df,\n",
      "C:\\Users\\olive\\anaconda3\\Lib\\site-packages\\IPython\\core\\pylabtools.py:152: UserWarning: Glyph 9 (\t) missing from current font.\n",
      "  fig.canvas.print_figure(bytes_io, **kw)\n"
     ]
    },
    {
     "data": {
      "image/png": "[encoded data removed]",
      "text/plain": [
       "<Figure size 1300x800 with 1 Axes>"
      ]
     },
     "metadata": {},
     "output_type": "display_data"
    }
   ],
   "source": [
    "genre_list = list(genre_exploded_df.extracted_genres)\n",
    "order = ['Adventure','Animation', 'Science Fiction', 'Fantasy', 'Action', 'Family', 'Mystery', 'Thriller', 'War', 'Crime', 'Horror', 'Western', 'Comedy', 'Drama', 'History', 'Romance', 'Music', 'TV Movie\t', 'Documentary', 'Foreign']\n",
    "\n",
    "plt.figure(figsize=(13, 8))\n",
    "\n",
    "\n",
    "sns.barplot(data=genre_exploded_df, \n",
    "            x='extracted_genres', \n",
    "            y='gross_profit',\n",
    "           palette = 'magma',\n",
    "           order = order,\n",
    "           ci=None)\n",
    "\n",
    "\n",
    "\n",
    "plt.xticks( ticks = range(20), # Distance between points (num in list) # Names you want for your labels!\n",
    "            rotation= 45 , # rotating labels\n",
    "           horizontalalignment = 'right', # aligning them with the bars (can do left 330)\n",
    "           fontweight = 'light',\n",
    "           fontsize =  'large' # setting the fonts\n",
    "          )\n",
    "\n",
    "plt.title('Most-Least popular genres and profitability\\n')\n",
    "plt.xlabel(\"Genres\")\n",
    "plt.ylabel(\"Gross Profit\")\n",
    "plt.show()"
   ]
  },
  {
   "cell_type": "markdown",
   "id": "3c05bf44-9c2b-4b77-aefe-4e6e15628e56",
   "metadata": {},
   "source": [
    "<b>Note: The highest popularity of genres are from left to right</b>"
   ]
  },
  {
   "cell_type": "markdown",
   "id": "c07a988b-1497-40fa-b65b-8f35eb17820f",
   "metadata": {},
   "source": [
    "<b>Does the Pearson correlation agree with our findings?</b>"
   ]
  },
  {
   "cell_type": "code",
   "execution_count": 42,
   "id": "498e30b0-1758-4a9a-9b4f-b0e13cb43ea2",
   "metadata": {
    "tags": []
   },
   "outputs": [
    {
     "data": {
      "text/html": [
       "<div>\n",
       "<style scoped>\n",
       "    .dataframe tbody tr th:only-of-type {\n",
       "        vertical-align: middle;\n",
       "    }\n",
       "\n",
       "    .dataframe tbody tr th {\n",
       "        vertical-align: top;\n",
       "    }\n",
       "\n",
       "    .dataframe thead th {\n",
       "        text-align: right;\n",
       "    }\n",
       "</style>\n",
       "<table border=\"1\" class=\"dataframe\">\n",
       "  <thead>\n",
       "    <tr style=\"text-align: right;\">\n",
       "      <th></th>\n",
       "      <th>popularity</th>\n",
       "      <th>gross_profit</th>\n",
       "    </tr>\n",
       "  </thead>\n",
       "  <tbody>\n",
       "    <tr>\n",
       "      <th>popularity</th>\n",
       "      <td>1.000000</td>\n",
       "      <td>0.919896</td>\n",
       "    </tr>\n",
       "    <tr>\n",
       "      <th>gross_profit</th>\n",
       "      <td>0.919896</td>\n",
       "      <td>1.000000</td>\n",
       "    </tr>\n",
       "  </tbody>\n",
       "</table>\n",
       "</div>"
      ],
      "text/plain": [
       "              popularity  gross_profit\n",
       "popularity      1.000000      0.919896\n",
       "gross_profit    0.919896      1.000000"
      ]
     },
     "execution_count": 42,
     "metadata": {},
     "output_type": "execute_result"
    }
   ],
   "source": [
    "popularity_genre_df = genre_exploded_df.groupby('extracted_genres')\\\n",
    "                    [['popularity', 'gross_profit']].mean().sort_values(['gross_profit'], ascending=True)\n",
    "\n",
    "popularity_genre_df.corr(numeric_only=True)"
   ]
  },
  {
   "cell_type": "markdown",
   "id": "7f3fde26-583b-4bcc-a4ec-0f0ed01c5352",
   "metadata": {},
   "source": [
    "Values greater then 0.8 indicate a strong positive linear correlation.\n",
    "With a positive correlation of 0.92(2.dp) we can now confirm there is a very strong linear correlation between genre poularity and pofitability."
   ]
  },
  {
   "cell_type": "markdown",
   "id": "7d7d50fe-caeb-4e56-a7f7-3d0c4a5b82d0",
   "metadata": {},
   "source": [
    " <b>1. Keypoint: People have biases for genres over other and as a consequence these generes have a tendency to be more profitable.</b>"
   ]
  },
  {
   "cell_type": "markdown",
   "id": "d13176f6-af24-4119-b4a4-f26c1c103122",
   "metadata": {
    "tags": []
   },
   "source": [
    "## 2.2 Genre popularity and Average rating"
   ]
  },
  {
   "cell_type": "markdown",
   "id": "df90da3b-5107-4d60-9be3-01aa0681a94b",
   "metadata": {},
   "source": [
    "We've seen that people have preferences between genres and as a consequence those gernres make more money."
   ]
  },
  {
   "cell_type": "markdown",
   "id": "8a87e9c5-17c5-482a-bce9-2ff3c00146b9",
   "metadata": {
    "tags": []
   },
   "source": [
    "<b> Theory: Are the more popular genres also enjoyed more by the audience.</b>"
   ]
  },
  {
   "cell_type": "markdown",
   "id": "6c86fc37-7ae9-4810-9fac-6e5bd50ff99c",
   "metadata": {
    "tags": []
   },
   "source": [
    "<b>Prason's correlation: Genre popularity and average rating</b>"
   ]
  },
  {
   "cell_type": "code",
   "execution_count": 124,
   "id": "9249be2d-924b-4a69-8006-829be090a916",
   "metadata": {
    "tags": []
   },
   "outputs": [
    {
     "data": {
      "text/html": [
       "<div>\n",
       "<style scoped>\n",
       "    .dataframe tbody tr th:only-of-type {\n",
       "        vertical-align: middle;\n",
       "    }\n",
       "\n",
       "    .dataframe tbody tr th {\n",
       "        vertical-align: top;\n",
       "    }\n",
       "\n",
       "    .dataframe thead th {\n",
       "        text-align: right;\n",
       "    }\n",
       "</style>\n",
       "<table border=\"1\" class=\"dataframe\">\n",
       "  <thead>\n",
       "    <tr style=\"text-align: right;\">\n",
       "      <th></th>\n",
       "      <th>vote_average</th>\n",
       "      <th>popularity</th>\n",
       "      <th>gross_profit</th>\n",
       "    </tr>\n",
       "    <tr>\n",
       "      <th>extracted_genres</th>\n",
       "      <th></th>\n",
       "      <th></th>\n",
       "      <th></th>\n",
       "    </tr>\n",
       "  </thead>\n",
       "  <tbody>\n",
       "    <tr>\n",
       "      <th>Horror</th>\n",
       "      <td>5.626590</td>\n",
       "      <td>18.295915</td>\n",
       "      <td>2.897105e+07</td>\n",
       "    </tr>\n",
       "    <tr>\n",
       "      <th>TV Movie</th>\n",
       "      <td>5.662500</td>\n",
       "      <td>6.389415</td>\n",
       "      <td>-1.150000e+06</td>\n",
       "    </tr>\n",
       "    <tr>\n",
       "      <th>Comedy</th>\n",
       "      <td>5.945587</td>\n",
       "      <td>18.221001</td>\n",
       "      <td>4.597608e+07</td>\n",
       "    </tr>\n",
       "  </tbody>\n",
       "</table>\n",
       "</div>"
      ],
      "text/plain": [
       "                  vote_average  popularity  gross_profit\n",
       "extracted_genres                                        \n",
       "Horror                5.626590   18.295915  2.897105e+07\n",
       "TV Movie              5.662500    6.389415 -1.150000e+06\n",
       "Comedy                5.945587   18.221001  4.597608e+07"
      ]
     },
     "execution_count": 124,
     "metadata": {},
     "output_type": "execute_result"
    }
   ],
   "source": [
    "rating_popularity_df = genre_exploded_df.groupby('extracted_genres')\\\n",
    "                    [['vote_average' , 'popularity', 'gross_profit']]\\\n",
    "                    .mean()\\\n",
    "                    .sort_values\\\n",
    "                    (['vote_average'], ascending=True)\n",
    "    \n",
    "rating_popularity_df.head(3)  #Worst avg rating vs popularity"
   ]
  },
  {
   "cell_type": "code",
   "execution_count": 96,
   "id": "25f1f5f5-0a23-420c-8c0b-d87992c6ea35",
   "metadata": {
    "tags": []
   },
   "outputs": [
    {
     "data": {
      "text/html": [
       "<div>\n",
       "<style scoped>\n",
       "    .dataframe tbody tr th:only-of-type {\n",
       "        vertical-align: middle;\n",
       "    }\n",
       "\n",
       "    .dataframe tbody tr th {\n",
       "        vertical-align: top;\n",
       "    }\n",
       "\n",
       "    .dataframe thead th {\n",
       "        text-align: right;\n",
       "    }\n",
       "</style>\n",
       "<table border=\"1\" class=\"dataframe\">\n",
       "  <thead>\n",
       "    <tr style=\"text-align: right;\">\n",
       "      <th></th>\n",
       "      <th>vote_average</th>\n",
       "      <th>popularity</th>\n",
       "      <th>gross_profit</th>\n",
       "    </tr>\n",
       "    <tr>\n",
       "      <th>extracted_genres</th>\n",
       "      <th></th>\n",
       "      <th></th>\n",
       "      <th></th>\n",
       "    </tr>\n",
       "  </thead>\n",
       "  <tbody>\n",
       "    <tr>\n",
       "      <th>Drama</th>\n",
       "      <td>6.388594</td>\n",
       "      <td>17.764853</td>\n",
       "      <td>3.143791e+07</td>\n",
       "    </tr>\n",
       "    <tr>\n",
       "      <th>War</th>\n",
       "      <td>6.713889</td>\n",
       "      <td>23.777289</td>\n",
       "      <td>4.887342e+07</td>\n",
       "    </tr>\n",
       "    <tr>\n",
       "      <th>History</th>\n",
       "      <td>6.719797</td>\n",
       "      <td>17.444839</td>\n",
       "      <td>2.762010e+07</td>\n",
       "    </tr>\n",
       "  </tbody>\n",
       "</table>\n",
       "</div>"
      ],
      "text/plain": [
       "                  vote_average  popularity  gross_profit\n",
       "extracted_genres                                        \n",
       "Drama                 6.388594   17.764853  3.143791e+07\n",
       "War                   6.713889   23.777289  4.887342e+07\n",
       "History               6.719797   17.444839  2.762010e+07"
      ]
     },
     "execution_count": 96,
     "metadata": {},
     "output_type": "execute_result"
    }
   ],
   "source": [
    "rating_popularity_df.tail(3)    #Best avg rating vs popularity"
   ]
  },
  {
   "cell_type": "code",
   "execution_count": 66,
   "id": "da2d5fed-f8ad-4f21-898d-9d4c8bc0f6bb",
   "metadata": {
    "tags": []
   },
   "outputs": [
    {
     "data": {
      "image/png": "[encoded data removed]",
      "text/plain": [
       "<Figure size 500x500 with 2 Axes>"
      ]
     },
     "metadata": {},
     "output_type": "display_data"
    }
   ],
   "source": [
    "rating_popularity_df.corr(numeric_only=True)\n",
    "plt.figure(figsize = (5,5))\n",
    "\n",
    "sns.heatmap(rating_popularity_df.corr(numeric_only=True),\n",
    "           annot = True,\n",
    "           cmap = 'magma_r',\n",
    "           fmt = '0.2f')  \n",
    "\n",
    "plt.show()"
   ]
  },
  {
   "cell_type": "markdown",
   "id": "56174390-e676-4dc5-9554-66686514f42a",
   "metadata": {},
   "source": [
    "From this we see that average rating does not correlate at all with popularity (and consequently gross profit)"
   ]
  },
  {
   "cell_type": "markdown",
   "id": "82db3a8d-afe8-442b-b2e1-8a26fd5bc5a4",
   "metadata": {},
   "source": [
    "<b>2. Keypoint: The most popular genres are not necessarily the most enjoyed(highly rated). </b>"
   ]
  },
  {
   "cell_type": "markdown",
   "id": "3cca11ac-64e4-4290-b894-384ff2296acb",
   "metadata": {},
   "source": [
    " "
   ]
  },
  {
   "cell_type": "markdown",
   "id": "125eda8b-4ae0-4a51-9bec-7b40cb05440c",
   "metadata": {
    "tags": []
   },
   "source": [
    "## 3 Having a look at the two most and least profitable movies"
   ]
  },
  {
   "cell_type": "markdown",
   "id": "fd9bc545-64c0-4b24-93b2-37a65f00be9c",
   "metadata": {},
   "source": [
    "<b>3.1 Finding the most/least profitable movies</b>"
   ]
  },
  {
   "cell_type": "code",
   "execution_count": 59,
   "id": "b5e15164-2d08-44e6-9851-b96d523a081c",
   "metadata": {
    "tags": []
   },
   "outputs": [
    {
     "data": {
      "text/html": [
       "<div>\n",
       "<style scoped>\n",
       "    .dataframe tbody tr th:only-of-type {\n",
       "        vertical-align: middle;\n",
       "    }\n",
       "\n",
       "    .dataframe tbody tr th {\n",
       "        vertical-align: top;\n",
       "    }\n",
       "\n",
       "    .dataframe thead th {\n",
       "        text-align: right;\n",
       "    }\n",
       "</style>\n",
       "<table border=\"1\" class=\"dataframe\">\n",
       "  <thead>\n",
       "    <tr style=\"text-align: right;\">\n",
       "      <th></th>\n",
       "      <th>original_title</th>\n",
       "      <th>budget</th>\n",
       "      <th>popularity</th>\n",
       "      <th>release_date</th>\n",
       "      <th>revenue</th>\n",
       "      <th>runtime</th>\n",
       "      <th>vote_average</th>\n",
       "      <th>gross_profit</th>\n",
       "      <th>extracted_spoken_languages</th>\n",
       "      <th>extracted_genres</th>\n",
       "    </tr>\n",
       "  </thead>\n",
       "  <tbody>\n",
       "    <tr>\n",
       "      <th>0</th>\n",
       "      <td>Avatar</td>\n",
       "      <td>237000000</td>\n",
       "      <td>150.437577</td>\n",
       "      <td>2009-12-10</td>\n",
       "      <td>2787965087</td>\n",
       "      <td>162.0</td>\n",
       "      <td>7.2</td>\n",
       "      <td>2550965087</td>\n",
       "      <td>[English, Español]</td>\n",
       "      <td>[Action, Adventure, Fantasy, Science Fiction]</td>\n",
       "    </tr>\n",
       "  </tbody>\n",
       "</table>\n",
       "</div>"
      ],
      "text/plain": [
       "  original_title     budget  popularity release_date     revenue runtime  \\\n",
       "0         Avatar  237000000  150.437577   2009-12-10  2787965087   162.0   \n",
       "\n",
       "   vote_average  gross_profit extracted_spoken_languages  \\\n",
       "0           7.2    2550965087         [English, Español]   \n",
       "\n",
       "                                extracted_genres  \n",
       "0  [Action, Adventure, Fantasy, Science Fiction]  "
      ]
     },
     "execution_count": 59,
     "metadata": {},
     "output_type": "execute_result"
    }
   ],
   "source": [
    "top_two = df[['original_title', 'budget', 'popularity', 'release_date', 'revenue', 'runtime', 'vote_average', 'gross_profit', 'extracted_spoken_languages', 'extracted_genres']]\\\n",
    "            .sort_values\\\n",
    "            (['gross_profit'], ascending=False)\n",
    "top_two.head(1)"
   ]
  },
  {
   "cell_type": "code",
   "execution_count": 73,
   "id": "1ade28f8-1e05-42dc-b289-1d98519a8007",
   "metadata": {
    "tags": []
   },
   "outputs": [
    {
     "data": {
      "text/html": [
       "<div>\n",
       "<style scoped>\n",
       "    .dataframe tbody tr th:only-of-type {\n",
       "        vertical-align: middle;\n",
       "    }\n",
       "\n",
       "    .dataframe tbody tr th {\n",
       "        vertical-align: top;\n",
       "    }\n",
       "\n",
       "    .dataframe thead th {\n",
       "        text-align: right;\n",
       "    }\n",
       "</style>\n",
       "<table border=\"1\" class=\"dataframe\">\n",
       "  <thead>\n",
       "    <tr style=\"text-align: right;\">\n",
       "      <th></th>\n",
       "      <th>original_title</th>\n",
       "      <th>budget</th>\n",
       "      <th>popularity</th>\n",
       "      <th>release_date</th>\n",
       "      <th>revenue</th>\n",
       "      <th>runtime</th>\n",
       "      <th>vote_average</th>\n",
       "      <th>gross_profit</th>\n",
       "      <th>extracted_spoken_languages</th>\n",
       "      <th>extracted_genres</th>\n",
       "    </tr>\n",
       "  </thead>\n",
       "  <tbody>\n",
       "    <tr>\n",
       "      <th>13</th>\n",
       "      <td>The Lone Ranger</td>\n",
       "      <td>255000000</td>\n",
       "      <td>49.046956</td>\n",
       "      <td>2013-07-03</td>\n",
       "      <td>89289910</td>\n",
       "      <td>149.0</td>\n",
       "      <td>5.9</td>\n",
       "      <td>-165710090</td>\n",
       "      <td>[English]</td>\n",
       "      <td>[Action, Adventure, Western]</td>\n",
       "    </tr>\n",
       "  </tbody>\n",
       "</table>\n",
       "</div>"
      ],
      "text/plain": [
       "     original_title     budget  popularity release_date   revenue runtime  \\\n",
       "13  The Lone Ranger  255000000   49.046956   2013-07-03  89289910   149.0   \n",
       "\n",
       "    vote_average  gross_profit extracted_spoken_languages  \\\n",
       "13           5.9    -165710090                  [English]   \n",
       "\n",
       "                extracted_genres  \n",
       "13  [Action, Adventure, Western]  "
      ]
     },
     "execution_count": 73,
     "metadata": {},
     "output_type": "execute_result"
    }
   ],
   "source": [
    "top_two.tail(1)"
   ]
  },
  {
   "cell_type": "markdown",
   "id": "e6b17b5e-32b7-42e9-be8d-21fc81a26368",
   "metadata": {
    "tags": []
   },
   "source": [
    "<b>Most profitable movie: Avatar<br />Least profitable movie: The Lone Ranger</b>"
   ]
  },
  {
   "cell_type": "markdown",
   "id": "9d4fbca9-92e5-4bff-9134-7743a1ee3f16",
   "metadata": {},
   "source": [
    " <b>Note: The lone ranger has a larger budget then Avatar</b>"
   ]
  },
  {
   "cell_type": "markdown",
   "id": "9e0cfc60-a03f-4b25-bd0c-c1425752008c",
   "metadata": {},
   "source": [
    " "
   ]
  },
  {
   "cell_type": "markdown",
   "id": "3733cd76-8ebe-4344-8d16-ef87ca5442f5",
   "metadata": {},
   "source": [
    "<b>3.2 Investigating the large profit difference</b>"
   ]
  },
  {
   "cell_type": "markdown",
   "id": "6b065ff2-8970-446d-9635-dd65506a4aa1",
   "metadata": {},
   "source": [
    "It is clear from the data that there is a massive difference in popularity of the two movies thus it is no wonder the massive difference in revenue/ profits."
   ]
  },
  {
   "cell_type": "markdown",
   "id": "2f80488a-748a-4c48-8a76-ab207364a449",
   "metadata": {
    "tags": []
   },
   "source": [
    "<b>A comparison of relative Popularity</b>"
   ]
  },
  {
   "cell_type": "code",
   "execution_count": 65,
   "id": "94432708-4ed4-4991-b5ca-1b05bcc169cc",
   "metadata": {
    "tags": []
   },
   "outputs": [
    {
     "data": {
      "image/png": "[encoded data removed]",
      "text/plain": [
       "<Figure size 640x480 with 1 Axes>"
      ]
     },
     "metadata": {},
     "output_type": "display_data"
    }
   ],
   "source": [
    "# Creating a pie chart comparing relative budgets\n",
    "sizes = [150.437577, 49.046956]  \n",
    "labels = ['Avatar', 'The Lone Ranger']  \n",
    "colors = ['#381b5f','#f1cfa1']\n",
    "\n",
    "\n",
    "explode = (0, 0.1)  \n",
    "fig1, ax1 = plt.subplots()\n",
    "ax1.pie(sizes, \n",
    "        explode=explode, \n",
    "        labels=labels, \n",
    "        autopct='%1.1f%%',\n",
    "        shadow=True, \n",
    "        startangle=90, \n",
    "        colors=colors)\n",
    "ax1.axis('equal')\n",
    "\n",
    "plt.title('Highest and Lowest profit movie popularity')\n",
    "plt.show()"
   ]
  },
  {
   "cell_type": "markdown",
   "id": "3fe01267-d8c8-4935-9927-7c076d0e7cb5",
   "metadata": {},
   "source": [
    "That explains the low profitability. But how do the two movies compare in other aspects?"
   ]
  },
  {
   "cell_type": "markdown",
   "id": "ef8a2287-7ccd-4987-8e17-47150874b362",
   "metadata": {
    "tags": []
   },
   "source": [
    "<b>Average User rating</b>"
   ]
  },
  {
   "cell_type": "code",
   "execution_count": 128,
   "id": "70701104-df28-49ee-9f7d-43c7e846f18b",
   "metadata": {
    "tags": []
   },
   "outputs": [
    {
     "data": {
      "image/png": "[encoded data removed]",
      "text/plain": [
       "<Figure size 500x600 with 1 Axes>"
      ]
     },
     "metadata": {},
     "output_type": "display_data"
    }
   ],
   "source": [
    "values = [7.2, 5.9]  # Values for the two observations\n",
    "labels = ['Avatar', 'The Lone Ranger']  # Labels for the two observations\n",
    "\n",
    "# Plot\n",
    "plt.figure(figsize=(5, 6))  # Optional: Set the figure size\n",
    "plt.bar(labels, values, \n",
    "        color=['#381b5f','#f1cfa1'])  # Customize colors if needed\n",
    "\n",
    "plt.ylim(4, 9)\n",
    "\n",
    "plt.xlabel('Movie')\n",
    "plt.ylabel('Rating')\n",
    "plt.title('Comparing the most/least profitable movie ratings\\n')\n",
    "plt.show()"
   ]
  },
  {
   "cell_type": "markdown",
   "id": "4514c235-8a7f-4e6f-87bc-81d1b59f1978",
   "metadata": {},
   "source": [
    "<b>Avatar rating:7.2<br /> The lone ranger rating: 5.9</b>"
   ]
  },
  {
   "cell_type": "markdown",
   "id": "23c67f48-cef4-46d5-9038-e8644cdb2ed4",
   "metadata": {},
   "source": [
    "As we can see The lone ranger is outperformed in many metrics (Popularity, average user rating) and also is only available in english unlike Avatar which also has spanish. "
   ]
  },
  {
   "cell_type": "markdown",
   "id": "6cb4b218-7def-4923-b60f-c8dd9c375d3f",
   "metadata": {},
   "source": [
    "<b>3. Keypoint: This differrence in profitability could be down to many things such as poor marketing (low popularity), a lower quality movie (avg user rating) and a smaller audience market (English speakers only). All of this could possibly have contributed to the movies profitability underperformance, despite having a larger budget.</b>"
   ]
  },
  {
   "cell_type": "code",
   "execution_count": null,
   "id": "e0dc0592-21f4-4e48-a228-700ce630eeb2",
   "metadata": {},
   "outputs": [],
   "source": []
  }
 ],
 "metadata": {
  "kernelspec": {
   "display_name": "Python 3 (ipykernel)",
   "language": "python",
   "name": "python3"
  },
  "language_info": {
   "codemirror_mode": {
    "name": "ipython",
    "version": 3
   },
   "file_extension": ".py",
   "mimetype": "text/x-python",
   "name": "python",
   "nbconvert_exporter": "python",
   "pygments_lexer": "ipython3",
   "version": "3.11.7"
  }
 },
 "nbformat": 4,
 "nbformat_minor": 5
}
